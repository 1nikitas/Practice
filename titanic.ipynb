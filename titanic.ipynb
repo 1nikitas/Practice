# This Python 3 environment comes with many helpful analytics libraries installed
# It is defined by the kaggle/python Docker image: https://github.com/kaggle/docker-python
# For example, here's several helpful packages to load

import numpy as np # linear algebra
import pandas as pd # data processing, CSV file I/O (e.g. pd.read_csv)

# Input data files are available in the read-only "../input/" directory
# For example, running this (by clicking run or pressing Shift+Enter) will list all files under the input directory

import os
for dirname, _, filenames in os.walk('/kaggle/input'):
    for filename in filenames:
        print(os.path.join(dirname, filename))

# You can write up to 20GB to the current directory (/kaggle/working/) that gets preserved as output when you create a version using "Save & Run All" 
# You can also write temporary files to /kaggle/temp/, but they won't be saved outside of the current session
/kaggle/input/titanic/train.csv
/kaggle/input/titanic/test.csv
/kaggle/input/titanic/gender_submission.csv
from sklearn.neighbors import KNeighborsClassifier
from sklearn.metrics import accuracy_score

data = pd.read_csv("./kaggle/train.csv", index_col='PassengerId') 

features = data[['Age', 'Sex', 'Embarked']].copy()
features['Sex'].replace(['female', 'male'], [0,1],inplace=True)
features['Age'].fillna(data['Age'].mean(), inplace=True)
features['Embarked'].fillna('S', inplace=True)
features['Embarked'].replace(['S', 'Q', 'C'], [0,1,2], inplace=True)
answers = data["Survived"]

model = KNeighborsClassifier(n_neighbors=6)
model.fit(features, answers)

test_data = pd.read_csv("./kaggle/test.csv", index_col='PassengerId') 
features = test_data[['Age', 'Sex', 'Embarked']].copy()
features['Sex'].replace(['female', 'male'], [0,1],inplace=True)
features['Age'].fillna(test_data['Age'].mean(), inplace=True)
features['Embarked'].fillna('S', inplace=True)
features['Embarked'].replace(['S', 'Q', 'C'], [0,1,2], inplace=True)

test_predictions = model.predict(features)

new_df = pd.DataFrame({'Survived': test_predictions}, index=test_data.index)
new_df.to_csv('submission.csv')
print(new_df)



             Survived
PassengerId          
892                 0
893                 0
894                 0
895                 0
896                 1
...               ...
1305                0
1306                1
1307                0
1308                0
1309                0
